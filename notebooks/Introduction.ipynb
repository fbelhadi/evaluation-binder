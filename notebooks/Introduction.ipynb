{
 "cells": [
  {
   "cell_type": "markdown",
   "id": "464438f7-4d65-4a27-9518-cf7166e847e6",
   "metadata": {
    "slideshow": {
     "slide_type": "slide"
    },
    "tags": []
   },
   "source": [
    "# Introduction"
   ]
  },
  {
   "cell_type": "markdown",
   "id": "bdf3f4bb-dfb1-4ab6-ba59-d7801a44d4f9",
   "metadata": {
    "slideshow": {
     "slide_type": "subslide"
    },
    "tags": []
   },
   "source": [
    "## What are Jupyter notebooks?"
   ]
  },
  {
   "cell_type": "markdown",
   "id": "36b6f0b3-1c50-4cc2-ba2c-74e74ae3aa02",
   "metadata": {
    "slideshow": {
     "slide_type": "fragment"
    },
    "tags": []
   },
   "source": [
    "Jupyter notebooks are documents that combine live runnable code with narrative text (Markdown), equations (LaTeX), images, interactive visualizations and other rich output:"
   ]
  },
  {
   "cell_type": "code",
   "execution_count": 1,
   "id": "900b6bdc-50ca-4989-bcf5-6bcb0506dd43",
   "metadata": {
    "slideshow": {
     "slide_type": "subslide"
    },
    "tags": []
   },
   "outputs": [
    {
     "data": {
      "text/html": [
       "<h3>Random Image</h3>"
      ],
      "text/plain": [
       "<IPython.core.display.HTML object>"
      ]
     },
     "metadata": {},
     "output_type": "display_data"
    },
    {
     "data": {
      "image/jpeg": "[encoded data removed]",
      "text/plain": [
       "<IPython.core.display.Image object>"
      ]
     },
     "metadata": {},
     "output_type": "display_data"
    }
   ],
   "source": [
    "from IPython.display import Image, HTML\n",
    "from IPython.display import display\n",
    "\n",
    "display(HTML(\"<h3>Random Image</h3>\"), Image(\"https://picsum.photos/1500/150.jpg\"))"
   ]
  },
  {
   "cell_type": "markdown",
   "id": "75b60cdd-07eb-48c7-8217-a76cbdab5c1d",
   "metadata": {
    "slideshow": {
     "slide_type": "slide"
    },
    "tags": []
   },
   "source": [
    "## UI Basics"
   ]
  },
  {
   "cell_type": "markdown",
   "id": "c2b3a4b0-7fa4-4f7d-9272-8e575111d55a",
   "metadata": {
    "slideshow": {
     "slide_type": "fragment"
    },
    "tags": []
   },
   "source": [
    "The JupyterLab interface consists of a main work area containing tabs of documents and activities, a collapsible left sidebar, and a menu bar. The left sidebar contains a <i class=\"fas fa-folder\"></i> **File Browser**, the list of <i class=\"fas fa-stop-circle\"></i> **Running Terminals and Kernels**, a <i class=\"fas fa-list\"></i> **Table of Contents** for the current notebook, and the <i class=\"fas fa-puzzle-piece\"></i> **Extension Manager**."
   ]
  },
  {
   "cell_type": "markdown",
   "id": "e6d05576-c038-478c-b26c-757b4ede556e",
   "metadata": {
    "slideshow": {
     "slide_type": "subslide"
    },
    "tags": []
   },
   "source": [
    "Typically, you will open an existing notebook from the <i class=\"fas fa-folder\"></i> **File Browser**, or create a new one from <kbd><kbd>File</kbd> ᐳ <kbd>New</kbd> ᐳ <kbd>Notebook</kbd></kbd>, but you can also create a new Console, perhaps for interactive use while building a notebook on the side. You can drag tabs to split the window in various ways:"
   ]
  },
  {
   "cell_type": "markdown",
   "id": "3e5a417e-0b78-4415-a9b5-4cd9c2bf5e6c",
   "metadata": {
    "slideshow": {
     "slide_type": "subslide"
    },
    "tags": []
   },
   "source": [
    "![UI Window with split and tabs](images/Introduction/ui-split-window.png \"Split Window\")"
   ]
  },
  {
   "cell_type": "markdown",
   "id": "27cc6a4c-140c-4ed7-8cd8-f4bddcb413cd",
   "metadata": {
    "slideshow": {
     "slide_type": "slide"
    },
    "tags": []
   },
   "source": [
    "## How to use these notebooks"
   ]
  },
  {
   "cell_type": "markdown",
   "id": "c4246521-0351-4824-829f-7482813dbae5",
   "metadata": {
    "slideshow": {
     "slide_type": "fragment"
    },
    "tags": []
   },
   "source": [
    "Each notebook contains many cells, which can be either Markdown (for narrative content and instructions) or Code."
   ]
  },
  {
   "cell_type": "markdown",
   "id": "fbc4f176-20ca-407c-99a9-bc604dce182c",
   "metadata": {
    "slideshow": {
     "slide_type": "fragment"
    },
    "tags": []
   },
   "source": [
    "You can enter the Markdown cells in edit-mode by double-clicking on the cell. To return it to display mode, you must \"run\" it by clicking the <kbd>▶</kbd> icon in the notebook menu, or pressing <kbd>Ctrl</kbd>+<kbd>Enter</kbd>."
   ]
  },
  {
   "cell_type": "markdown",
   "id": "851f2f61-7f11-4b6a-a546-441972e22588",
   "metadata": {
    "slideshow": {
     "slide_type": "subslide"
    },
    "tags": []
   },
   "source": [
    "Code cells can be edited directly, and the code will be executed when run. Note that all cells share the same \"session\", so for example, a variable assigned in one cell is available for use in following cells. Review the <kbd><kbd>Run</kbd></kbd> menu to see other options. In particular, <kbd>Shift</kbd>+<kbd>Enter</kbd> is useful for stepping through a notebook, and <kbd>Alt</kbd>+<kbd>Enter</kbd> is useful for continuing your work in a new cell."
   ]
  },
  {
   "cell_type": "markdown",
   "id": "da8cbca1-d59d-431b-a80a-8f4daa95808b",
   "metadata": {
    "slideshow": {
     "slide_type": "fragment"
    },
    "tags": []
   },
   "source": [
    "Each cell (including code output) can be collapsed individually by clicking on the color-bar at the left side of the cell. Click on the <kbd>...</kbd> button to expand them. Some of the notebooks use this feature to keep next steps hidden until the user has completed the previous step. Also, for code cells, the bar color indicates if the cell has been edited (Orange) or not (Blue.)"
   ]
  },
  {
   "cell_type": "markdown",
   "id": "947f3c7c-5259-45a9-a5b4-b60a723af659",
   "metadata": {
    "slideshow": {
     "slide_type": "slide"
    },
    "tags": []
   },
   "source": [
    "## Features"
   ]
  },
  {
   "cell_type": "markdown",
   "id": "68a72a5b-6e1c-45df-a120-6237437e760d",
   "metadata": {
    "slideshow": {
     "slide_type": "slide"
    },
    "tags": []
   },
   "source": [
    "### Colorful tracebacks"
   ]
  },
  {
   "cell_type": "code",
   "execution_count": 2,
   "id": "8a448f90-52c4-4e4d-b748-6ca3a07e3c80",
   "metadata": {
    "slideshow": {
     "slide_type": "fragment"
    },
    "tags": []
   },
   "outputs": [
    {
     "ename": "SyntaxError",
     "evalue": "Missing parentheses in call to 'print'. Did you mean print(\"Hello World!\")? (<ipython-input-2-1b01280ccede>, line 1)",
     "output_type": "error",
     "traceback": [
      "\u001b[0;36m  File \u001b[0;32m\"<ipython-input-2-1b01280ccede>\"\u001b[0;36m, line \u001b[0;32m1\u001b[0m\n\u001b[0;31m    print \"Hello World!\"\u001b[0m\n\u001b[0m          ^\u001b[0m\n\u001b[0;31mSyntaxError\u001b[0m\u001b[0;31m:\u001b[0m Missing parentheses in call to 'print'. Did you mean print(\"Hello World!\")?\n"
     ]
    }
   ],
   "source": [
    "print \"Hello World!\""
   ]
  },
  {
   "cell_type": "markdown",
   "id": "21f42bf1-3619-4dfb-bf9b-5a12a50c7ecc",
   "metadata": {
    "slideshow": {
     "slide_type": "subslide"
    },
    "tags": []
   },
   "source": [
    "### Integrated help"
   ]
  },
  {
   "cell_type": "code",
   "execution_count": 3,
   "id": "03ba414b-f6ea-4ff2-953d-01ac86c533ce",
   "metadata": {
    "slideshow": {
     "slide_type": "fragment"
    },
    "tags": []
   },
   "outputs": [
    {
     "data": {
      "text/plain": [
       "\u001b[0;31mDocstring:\u001b[0m\n",
       "print(value, ..., sep=' ', end='\\n', file=sys.stdout, flush=False)\n",
       "\n",
       "Prints the values to a stream, or to sys.stdout by default.\n",
       "Optional keyword arguments:\n",
       "file:  a file-like object (stream); defaults to the current sys.stdout.\n",
       "sep:   string inserted between values, default a space.\n",
       "end:   string appended after the last value, default a newline.\n",
       "flush: whether to forcibly flush the stream.\n",
       "\u001b[0;31mType:\u001b[0m      builtin_function_or_method\n"
      ]
     },
     "metadata": {},
     "output_type": "display_data"
    }
   ],
   "source": [
    "print?"
   ]
  }
 ],
 "metadata": {
  "kernelspec": {
   "display_name": "Python 3",
   "language": "python",
   "name": "python3"
  },
  "language_info": {
   "codemirror_mode": {
    "name": "ipython",
    "version": 3
   },
   "file_extension": ".py",
   "mimetype": "text/x-python",
   "name": "python",
   "nbconvert_exporter": "python",
   "pygments_lexer": "ipython3",
   "version": "3.8.10"
  },
  "toc-showmarkdowntxt": false,
  "widgets": {
   "application/vnd.jupyter.widget-state+json": {
    "state": {},
    "version_major": 2,
    "version_minor": 0
   }
  }
 },
 "nbformat": 4,
 "nbformat_minor": 5
}
