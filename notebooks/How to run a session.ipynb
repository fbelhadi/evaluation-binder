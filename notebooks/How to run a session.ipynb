{
 "cells": [
  {
   "cell_type": "markdown",
   "id": "df592669-9b69-4b42-91bb-7f929dc66f82",
   "metadata": {},
   "source": [
    "**Note:** If you are not yet familiar with using [JupyterLab](https://jupyterlab.readthedocs.io/en/stable/), please review the [Introduction](Introduction.ipynb) for a quick overview.\n",
    "\n",
    "# How to run a session\n",
    "\n",
    "First, you must initialize this environment by decrypting the notebooks for the user to work with. You must have the password to continue!\n",
    "\n",
    "Start by running the following cell and entering the password when prompted."
   ]
  },
  {
   "cell_type": "code",
   "execution_count": null,
   "id": "22daa4f6-87f1-4557-8142-a16e301a1bae",
   "metadata": {
    "tags": []
   },
   "outputs": [],
   "source": [
    "%run -e ../unlock_repo  ## Press Ctrl-Enter in this cell!"
   ]
  },
  {
   "cell_type": "markdown",
   "id": "725d5234-adc6-48f7-91b6-323618557c3b",
   "metadata": {},
   "source": [
    "1. Choose an exercise notebook from the <i class=\"fas fa-folder\"></i> **File Browser** ( <kbd>Ctrl</kbd>+<kbd>Shift</kbd>+<kbd>F</kbd> ) and double-click to open it.\n",
    "1. Review the contents, ensuring that any cells that should be hidden from the user are collapsed until needed.\n",
    "   - Toggle by clicking the color bar on the left of the cell.\n",
    "1. Selecting the <i class=\"fas fa-list\"></i> **Table of Contents** in the sidebar to help navigate the notebook.\n",
    "1. Select <kbd><kbd>Share</kbd> ᐳ <kbd>Share Jupyter Server Link</kbd></kbd>. Copy the displayed link and share it with the user to load in their browser. \n",
    "   - This link can be shared with multiple users for collaborative editing as a team.\n",
    "1. Once the user has loaded the link, they will be able to edit. You will be able to observe their work, and provide helpful edits of your own at your discretion.\n",
    "1. For users unfamiliar with JupyterLab, an instructional cell has been added to the notebooks to help get them started.\n",
    "1. Some of the notebooks may have cells ready to load solutions. At your discretion, just uncomment the code in that cell and execute the `%load` command to display the solution for the user to review.\n",
    "1. Once the session is complete, if you wish to retain a copy of the notebook for documentation, you can export it as an HTML page with <kbd><kbd>File</kbd> ᐳ <kbd>Export Notebook As…</kbd> ᐳ <kbd>HTML</kbd></kbd> and then print to PDF from your browser.\n",
    "   - **Note:** The built-in PDF export does not work in this container, as the OS packages required to support that feature make the load time in Binder excessively long."
   ]
  }
 ],
 "metadata": {
  "kernelspec": {
   "display_name": "Python 3",
   "language": "python",
   "name": "python3"
  },
  "language_info": {
   "codemirror_mode": {
    "name": "ipython",
    "version": 3
   },
   "file_extension": ".py",
   "mimetype": "text/x-python",
   "name": "python",
   "nbconvert_exporter": "python",
   "pygments_lexer": "ipython3",
   "version": "3.8.10"
  },
  "widgets": {
   "application/vnd.jupyter.widget-state+json": {
    "state": {},
    "version_major": 2,
    "version_minor": 0
   }
  }
 },
 "nbformat": 4,
 "nbformat_minor": 5
}
