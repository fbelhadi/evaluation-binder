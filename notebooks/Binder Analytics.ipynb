{
 "cells": [
  {
   "cell_type": "markdown",
   "id": "815389b7-ebc1-48b1-a4da-9c3a3b84bfb9",
   "metadata": {},
   "source": [
    "# Binder Analytics\n",
    "Analysing launches of this project in [MyBinder](https://mybinder.org)."
   ]
  },
  {
   "cell_type": "code",
   "execution_count": 26,
   "id": "f7fb3f61-c693-4134-bdcd-e183f9b5a516",
   "metadata": {},
   "outputs": [],
   "source": [
    "%matplotlib inline\n",
    "import pandas as pd\n",
    "from concurrent.futures import ThreadPoolExecutor, as_completed, wait\n",
    "\n",
    "from ipypb import irange, track\n",
    "from tqdm.auto import tqdm, trange"
   ]
  },
  {
   "cell_type": "code",
   "execution_count": 28,
   "id": "12f82c27-1403-46de-9cb0-11d439c63043",
   "metadata": {},
   "outputs": [],
   "source": [
    "import ipypb\n",
    "from IPython.display import ProgressBar"
   ]
  },
  {
   "cell_type": "markdown",
   "id": "625382db-9854-4c60-a378-668f655382ef",
   "metadata": {},
   "source": [
    "## Get the source data\n",
    "### Download the archive index"
   ]
  },
  {
   "cell_type": "markdown",
   "id": "01e35b43-cb0a-4621-b220-e0b3c83edf6d",
   "metadata": {},
   "source": [
    "The index.jsonl file lists all the dates an event archive is available for. The following fields are present for each line:\n",
    "\n",
    "- date :: The UTC date the event archive is for\n",
    "- name :: The name of the file containing the events. This is a relative path - since we got the index.jsonl file from https://archive.analytics.mybinder.org, that is the base URL used to resolve these. For example when name is events-2018-11-05.jsonl, the full URL to the file is https://archive.analytics.mybinder.org/events-2018-11-05.jsonl.\n",
    "- count :: Total number of events in the file.\n"
   ]
  },
  {
   "cell_type": "code",
   "execution_count": 3,
   "id": "9449e606-f523-431f-8c7f-9c219f296d4f",
   "metadata": {},
   "outputs": [],
   "source": [
    "start_date = pd.Timestamp(\"2021-08-08\")"
   ]
  },
  {
   "cell_type": "code",
   "execution_count": 4,
   "id": "115fb232-73f4-4c06-b9af-88c11065f7d6",
   "metadata": {},
   "outputs": [
    {
     "name": "stdout",
     "output_type": "stream",
     "text": [
      "CPU times: user 30.8 ms, sys: 4.51 ms, total: 35.3 ms\n",
      "Wall time: 397 ms\n"
     ]
    }
   ],
   "source": [
    "%time index = pd.read_json(\"https://archive.analytics.mybinder.org/index.jsonl\", lines=True)"
   ]
  },
  {
   "cell_type": "markdown",
   "id": "9c64b475-ca82-4ed6-b520-53800400e955",
   "metadata": {},
   "source": [
    "Only keep index entries from our `start_date` to the present day, and reindex so it starts at 0."
   ]
  },
  {
   "cell_type": "code",
   "execution_count": 5,
   "id": "7444bbed-febd-44d0-9925-98276cdf9489",
   "metadata": {
    "tags": []
   },
   "outputs": [],
   "source": [
    "index = index[index.date >= start_date].reset_index(drop=True)"
   ]
  },
  {
   "cell_type": "code",
   "execution_count": 6,
   "id": "f4a78872-ef01-427b-b8c0-5b6c305c806d",
   "metadata": {},
   "outputs": [
    {
     "data": {
      "text/html": [
       "<div>\n",
       "<style scoped>\n",
       "    .dataframe tbody tr th:only-of-type {\n",
       "        vertical-align: middle;\n",
       "    }\n",
       "\n",
       "    .dataframe tbody tr th {\n",
       "        vertical-align: top;\n",
       "    }\n",
       "\n",
       "    .dataframe thead th {\n",
       "        text-align: right;\n",
       "    }\n",
       "</style>\n",
       "<table border=\"1\" class=\"dataframe\">\n",
       "  <thead>\n",
       "    <tr style=\"text-align: right;\">\n",
       "      <th></th>\n",
       "      <th>name</th>\n",
       "      <th>date</th>\n",
       "      <th>count</th>\n",
       "    </tr>\n",
       "  </thead>\n",
       "  <tbody>\n",
       "    <tr>\n",
       "      <th>0</th>\n",
       "      <td>events-2021-08-08.jsonl</td>\n",
       "      <td>2021-08-08</td>\n",
       "      <td>13331</td>\n",
       "    </tr>\n",
       "    <tr>\n",
       "      <th>1</th>\n",
       "      <td>events-2021-08-09.jsonl</td>\n",
       "      <td>2021-08-09</td>\n",
       "      <td>23388</td>\n",
       "    </tr>\n",
       "    <tr>\n",
       "      <th>...</th>\n",
       "      <td>...</td>\n",
       "      <td>...</td>\n",
       "      <td>...</td>\n",
       "    </tr>\n",
       "    <tr>\n",
       "      <th>10</th>\n",
       "      <td>events-2021-08-18.jsonl</td>\n",
       "      <td>2021-08-18</td>\n",
       "      <td>25364</td>\n",
       "    </tr>\n",
       "    <tr>\n",
       "      <th>11</th>\n",
       "      <td>events-2021-08-19.jsonl</td>\n",
       "      <td>2021-08-19</td>\n",
       "      <td>24305</td>\n",
       "    </tr>\n",
       "  </tbody>\n",
       "</table>\n",
       "<p>12 rows × 3 columns</p>\n",
       "</div>"
      ],
      "text/plain": [
       "                       name       date  count\n",
       "0   events-2021-08-08.jsonl 2021-08-08  13331\n",
       "1   events-2021-08-09.jsonl 2021-08-09  23388\n",
       "..                      ...        ...    ...\n",
       "10  events-2021-08-18.jsonl 2021-08-18  25364\n",
       "11  events-2021-08-19.jsonl 2021-08-19  24305\n",
       "\n",
       "[12 rows x 3 columns]"
      ]
     },
     "execution_count": 6,
     "metadata": {},
     "output_type": "execute_result"
    }
   ],
   "source": [
    "pd.set_option(\"display.max_rows\", 4)\n",
    "index"
   ]
  },
  {
   "cell_type": "markdown",
   "id": "35cac792-7e6d-436c-970d-685679bcabf2",
   "metadata": {},
   "source": [
    "### Download the event archives\n",
    "\n",
    "Get event archives for all the days since the first version of this repository was created:"
   ]
  },
  {
   "cell_type": "markdown",
   "id": "5b93f377-42fd-49b7-a829-1b5ce7bb1fed",
   "metadata": {},
   "source": [
    "1. The main progress bar will have the len of archives and progresses for each archive completed.\n",
    "1. I want to have sub-progress bars for each archive as they are added, ordered properly.\n",
    "1. These subprocess bars will have the count for the archive and progress by the len of each chunk."
   ]
  },
  {
   "cell_type": "code",
   "execution_count": 7,
   "id": "c349a17e-0c62-4c32-a980-6f6099e4fa7b",
   "metadata": {},
   "outputs": [],
   "source": [
    "frames = []"
   ]
  },
  {
   "cell_type": "code",
   "execution_count": 29,
   "id": "4474499e-8798-436c-bc1a-b33b33e3242c",
   "metadata": {},
   "outputs": [],
   "source": [
    "pb = ProgressBar(12)"
   ]
  },
  {
   "cell_type": "code",
   "execution_count": 38,
   "id": "a0957bd9-b7b9-4243-8dbb-56b18a6cdf76",
   "metadata": {},
   "outputs": [
    {
     "data": {
      "text/html": [
       "<progress style='width:60ex' max='12' value='1'></progress>"
      ],
      "text/plain": [
       "[=====                                                       ] 1/12"
      ]
     },
     "metadata": {},
     "output_type": "display_data"
    }
   ],
   "source": [
    "pb.display()"
   ]
  },
  {
   "cell_type": "code",
   "execution_count": 37,
   "id": "7c03b377-07ef-426d-a0bf-5f22a387bff1",
   "metadata": {},
   "outputs": [],
   "source": [
    "pb._progress = 1"
   ]
  },
  {
   "cell_type": "code",
   "execution_count": 22,
   "id": "ae6d36ec-a0f2-49ef-b63f-047f48b20e1e",
   "metadata": {},
   "outputs": [],
   "source": [
    "def get_events(archive):\n",
    "    desc = str(archive[\"date\"].date())\n",
    "    total = archive[\"count\"]\n",
    "    url = f\"https://archive.analytics.mybinder.org/{archive['name']}\"\n",
    "    with tqdm(total=total, desc=desc) as pbar:\n",
    "        with pd.read_json(url, lines=True, chunksize=250) as reader:\n",
    "            for chunk in reader:\n",
    "                frames.append(chunk)\n",
    "                pbar.update(len(chunk))"
   ]
  },
  {
   "cell_type": "code",
   "execution_count": 23,
   "id": "befbbdb2-152b-4fca-a7a5-6a8bea6df326",
   "metadata": {},
   "outputs": [
    {
     "data": {
      "application/vnd.jupyter.widget-view+json": {
       "model_id": "d8e018b92d4b45bdb32bda6953d4d6ec",
       "version_major": 2,
       "version_minor": 0
      },
      "text/plain": [
       "Archives:   0%|          | 0/12 [00:00<?, ?it/s]"
      ]
     },
     "metadata": {},
     "output_type": "display_data"
    },
    {
     "ename": "TypeError",
     "evalue": "'generator' object is not subscriptable",
     "output_type": "error",
     "traceback": [
      "\u001b[0;31m---------------------------------------------------------------------------\u001b[0m",
      "\u001b[0;31mTypeError\u001b[0m                                 Traceback (most recent call last)",
      "\u001b[0;32m<ipython-input-23-74919053779c>\u001b[0m in \u001b[0;36m<module>\u001b[0;34m\u001b[0m\n\u001b[1;32m      2\u001b[0m     \u001b[0mfutures\u001b[0m \u001b[0;34m=\u001b[0m \u001b[0;34m[\u001b[0m\u001b[0;34m]\u001b[0m\u001b[0;34m\u001b[0m\u001b[0;34m\u001b[0m\u001b[0m\n\u001b[1;32m      3\u001b[0m     \u001b[0mpbar\u001b[0m \u001b[0;34m=\u001b[0m \u001b[0mtrange\u001b[0m\u001b[0;34m(\u001b[0m\u001b[0mlen\u001b[0m\u001b[0;34m(\u001b[0m\u001b[0mindex\u001b[0m\u001b[0;34m)\u001b[0m\u001b[0;34m,\u001b[0m \u001b[0mdesc\u001b[0m\u001b[0;34m=\u001b[0m\u001b[0;34m'Archives'\u001b[0m\u001b[0;34m)\u001b[0m\u001b[0;34m\u001b[0m\u001b[0;34m\u001b[0m\u001b[0m\n\u001b[0;32m----> 4\u001b[0;31m     \u001b[0mfutures\u001b[0m \u001b[0;34m=\u001b[0m \u001b[0mexecutor\u001b[0m\u001b[0;34m.\u001b[0m\u001b[0mmap\u001b[0m\u001b[0;34m(\u001b[0m\u001b[0mget_events\u001b[0m\u001b[0;34m,\u001b[0m \u001b[0mindex\u001b[0m\u001b[0;34m.\u001b[0m\u001b[0miterrows\u001b[0m\u001b[0;34m(\u001b[0m\u001b[0;34m)\u001b[0m\u001b[0;34m[\u001b[0m\u001b[0;36m1\u001b[0m\u001b[0;34m]\u001b[0m\u001b[0;34m)\u001b[0m\u001b[0;34m\u001b[0m\u001b[0;34m\u001b[0m\u001b[0m\n\u001b[0m\u001b[1;32m      5\u001b[0m     \u001b[0m_\u001b[0m \u001b[0;34m=\u001b[0m \u001b[0;34m(\u001b[0m\u001b[0mf\u001b[0m\u001b[0;34m.\u001b[0m\u001b[0madd_done_callback\u001b[0m\u001b[0;34m(\u001b[0m\u001b[0;32mlambda\u001b[0m \u001b[0mfut\u001b[0m\u001b[0;34m:\u001b[0m \u001b[0mpbar\u001b[0m\u001b[0;34m.\u001b[0m\u001b[0mupdate\u001b[0m\u001b[0;34m(\u001b[0m\u001b[0;36m1\u001b[0m\u001b[0;34m)\u001b[0m\u001b[0;34m)\u001b[0m \u001b[0;32mfor\u001b[0m \u001b[0mf\u001b[0m \u001b[0;32min\u001b[0m \u001b[0mfutures\u001b[0m\u001b[0;34m)\u001b[0m\u001b[0;34m\u001b[0m\u001b[0;34m\u001b[0m\u001b[0m\n\u001b[1;32m      6\u001b[0m \u001b[0;34m\u001b[0m\u001b[0m\n",
      "\u001b[0;31mTypeError\u001b[0m: 'generator' object is not subscriptable"
     ]
    }
   ],
   "source": [
    "with ThreadPoolExecutor(max_workers=5) as executor:\n",
    "    futures = []\n",
    "    pbar = trange(len(index), desc=\"Archives\")\n",
    "    futures = executor.map(get_events, index.iterrows())\n",
    "    _ = (f.add_done_callback(lambda fut: pbar.update(1)) for f in futures)\n",
    "\n",
    "results = wait(futures)\n",
    "print(f\"{len(results.done)} archives completed\")"
   ]
  },
  {
   "cell_type": "code",
   "execution_count": 10,
   "id": "a5661202-3ad8-46ae-8be2-2d570b9cbe63",
   "metadata": {},
   "outputs": [],
   "source": [
    "df = pd.concat(frames)"
   ]
  },
  {
   "cell_type": "markdown",
   "id": "9113c058-3b96-45a7-9f35-afe79dfaf07a",
   "metadata": {},
   "source": [
    "### Massage the data\n",
    "\n",
    "Limit to records that are from my GitHub repositories, and reset the index."
   ]
  },
  {
   "cell_type": "code",
   "execution_count": null,
   "id": "f9b80c47-c5a9-45ab-8954-44d2614ff049",
   "metadata": {},
   "outputs": [],
   "source": [
    "df = df[\n",
    "    (df[\"provider\"] == \"GitHub\") & (df[\"spec\"].str.startswith(\"philipsd6\"))\n",
    "].reset_index(drop=True)"
   ]
  },
  {
   "cell_type": "markdown",
   "id": "37a16e25-a650-47b8-a5d6-87ff2af42a0f",
   "metadata": {},
   "source": [
    "Does it look right?"
   ]
  },
  {
   "cell_type": "code",
   "execution_count": null,
   "id": "6e172b6c-f474-4487-8b6c-3272c454409f",
   "metadata": {},
   "outputs": [],
   "source": [
    "df.sample(3)"
   ]
  },
  {
   "cell_type": "markdown",
   "id": "9af3431e-441a-4e54-8570-229c369af904",
   "metadata": {},
   "source": [
    "Split the spec out into the repo/ref/commit. Often the ref is the same as the commit."
   ]
  },
  {
   "cell_type": "code",
   "execution_count": null,
   "id": "a30cd2af-7bc9-4d03-b690-40489bc7dbd8",
   "metadata": {},
   "outputs": [],
   "source": [
    "df[\"commit\"] = df[\"ref\"]\n",
    "df[[\"repo\", \"ref\"]] = df[\"spec\"].str.rsplit(\"/\", 1, expand=True)"
   ]
  },
  {
   "cell_type": "markdown",
   "id": "4673c14d-cb2a-40a9-b5d4-288e6c120f2d",
   "metadata": {},
   "source": [
    "Drop unneeded columns and reindex in a nicer order."
   ]
  },
  {
   "cell_type": "code",
   "execution_count": null,
   "id": "d4e418f8-856b-44dc-a2eb-77d7494d92f7",
   "metadata": {
    "tags": []
   },
   "outputs": [],
   "source": [
    "df = df.drop(columns=[\"schema\", \"version\", \"provider\", \"spec\", \"status\"]).reindex(\n",
    "    columns=[\"timestamp\", \"build_token\", \"origin\", \"repo\", \"ref\", \"commit\"]\n",
    ")"
   ]
  },
  {
   "cell_type": "markdown",
   "id": "d882aa5b-d491-44b6-9446-3dc3d61ce79e",
   "metadata": {},
   "source": [
    "Does it look better?"
   ]
  },
  {
   "cell_type": "code",
   "execution_count": null,
   "id": "86054b26-ec3f-487d-a83e-15f03d2ba108",
   "metadata": {},
   "outputs": [],
   "source": [
    "df.sample(3)"
   ]
  },
  {
   "cell_type": "markdown",
   "id": "f74b87a7-7649-43ea-bbd6-c9810cb065db",
   "metadata": {},
   "source": [
    "## Analyze the data\n",
    "### Total Launches"
   ]
  },
  {
   "cell_type": "code",
   "execution_count": null,
   "id": "ee1e857b-cc1f-4948-8b94-52c1d0557846",
   "metadata": {},
   "outputs": [],
   "source": [
    "df.shape[0]"
   ]
  },
  {
   "cell_type": "markdown",
   "id": "33061cd5-60d4-47a7-bed9-e3f351403a3b",
   "metadata": {},
   "source": [
    "### Launches per day"
   ]
  },
  {
   "cell_type": "code",
   "execution_count": null,
   "id": "afee32cd-8f9f-4cfd-a468-5cdeb11a3dbc",
   "metadata": {},
   "outputs": [],
   "source": [
    "daily = df.set_index(\"timestamp\").resample(\"D\").count()"
   ]
  },
  {
   "cell_type": "code",
   "execution_count": null,
   "id": "b76b150f-325c-463f-a123-5b620545b039",
   "metadata": {},
   "outputs": [],
   "source": [
    "daily[\"repo\"].plot()"
   ]
  },
  {
   "cell_type": "code",
   "execution_count": null,
   "id": "b17650fc-5b38-47b0-9332-52e43e5daccd",
   "metadata": {},
   "outputs": [],
   "source": []
  }
 ],
 "metadata": {
  "kernelspec": {
   "display_name": "Python 3",
   "language": "python",
   "name": "python3"
  },
  "language_info": {
   "codemirror_mode": {
    "name": "ipython",
    "version": 3
   },
   "file_extension": ".py",
   "mimetype": "text/x-python",
   "name": "python",
   "nbconvert_exporter": "python",
   "pygments_lexer": "ipython3",
   "version": "3.8.10"
  },
  "widgets": {
   "application/vnd.jupyter.widget-state+json": {
    "state": {},
    "version_major": 2,
    "version_minor": 0
   }
  }
 },
 "nbformat": 4,
 "nbformat_minor": 5
}
