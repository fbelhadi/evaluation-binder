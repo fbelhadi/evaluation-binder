{
 "cells": [
  {
   "cell_type": "markdown",
   "id": "815389b7-ebc1-48b1-a4da-9c3a3b84bfb9",
   "metadata": {},
   "source": [
    "# Binder Analytics\n",
    "Analysing launches of this project in [MyBinder](https://mybinder.org)."
   ]
  },
  {
   "cell_type": "code",
   "execution_count": 1,
   "id": "f7fb3f61-c693-4134-bdcd-e183f9b5a516",
   "metadata": {},
   "outputs": [],
   "source": [
    "%matplotlib inline\n",
    "import datetime\n",
    "import pandas as pd\n",
    "\n",
    "from ipypb import track"
   ]
  },
  {
   "cell_type": "markdown",
   "id": "625382db-9854-4c60-a378-668f655382ef",
   "metadata": {},
   "source": [
    "## Get the source data\n",
    "### Download the archive index"
   ]
  },
  {
   "cell_type": "code",
   "execution_count": 2,
   "id": "2b2c1919-231b-407c-8d28-faff2a0e4fb3",
   "metadata": {},
   "outputs": [],
   "source": [
    "index = pd.read_json(\"https://archive.analytics.mybinder.org/index.jsonl\",\n",
    "                     lines=True)"
   ]
  },
  {
   "cell_type": "markdown",
   "id": "01e35b43-cb0a-4621-b220-e0b3c83edf6d",
   "metadata": {},
   "source": [
    "The index.jsonl file lists all the dates an event archive is available for. The following fields are present for each line:\n",
    "\n",
    "- date :: The UTC date the event archive is for\n",
    "- name :: The name of the file containing the events. This is a relative path - since we got the index.jsonl file from https://archive.analytics.mybinder.org, that is the base URL used to resolve these. For example when name is events-2018-11-05.jsonl, the full URL to the file is https://archive.analytics.mybinder.org/events-2018-11-05.jsonl.\n",
    "- count :: Total number of events in the file.\n"
   ]
  },
  {
   "cell_type": "markdown",
   "id": "35cac792-7e6d-436c-970d-685679bcabf2",
   "metadata": {},
   "source": [
    "### Download the event archives\n",
    "\n",
    "Get event archives for all the days since the first version of this repository was created:"
   ]
  },
  {
   "cell_type": "code",
   "execution_count": 3,
   "id": "a5661202-3ad8-46ae-8be2-2d570b9cbe63",
   "metadata": {},
   "outputs": [
    {
     "data": {
      "text/html": [
       "<div><span class=\"Text-label\" style=\"display:inline-block; overflow:hidden; white-space:nowrap; text-overflow:ellipsis; min-width:0; max-width:15ex; vertical-align:middle; text-align:right\"></span>\n",
       "<progress style=\"width:60ex\" max=\"10\" value=\"10\" class=\"Progress-main\"/></progress>\n",
       "<span class=\"Progress-label\"><strong>100%</strong></span>\n",
       "<span class=\"Iteration-label\">10/10</span>\n",
       "<span class=\"Time-label\">[01:03<00:09, 6.31s/it]</span></div>"
      ],
      "text/plain": [
       "\u001b[A\u001b[2K\r",
       " [████████████████████████████████████████████████████████████] 10/10 [01:03<00:09, 6.31s/it]"
      ]
     },
     "metadata": {},
     "output_type": "display_data"
    },
    {
     "name": "stdout",
     "output_type": "stream",
     "text": [
      "Fetched data for 10 days.\n"
     ]
    }
   ],
   "source": [
    "now = datetime.datetime.now()\n",
    "n = (now - datetime.datetime(2021, 8, 8)).days\n",
    "\n",
    "pb = track(total=n, iterable=index.sort_index(ascending=False).iterrows())\n",
    "\n",
    "frames = []\n",
    "for idx, day in pb:\n",
    "    frames.append(\n",
    "        pd.read_json(f\"https://archive.analytics.mybinder.org/{day['name']}\",\n",
    "                     lines=True)\n",
    "    )\n",
    "\n",
    "print(f\"Fetched data for {n} days.\")\n",
    "df = pd.concat(frames)"
   ]
  },
  {
   "cell_type": "markdown",
   "id": "9113c058-3b96-45a7-9f35-afe79dfaf07a",
   "metadata": {},
   "source": [
    "### Massage the data\n",
    "\n",
    "Limit to records that are from my GitHub repositories, and reset the index."
   ]
  },
  {
   "cell_type": "code",
   "execution_count": 4,
   "id": "f9b80c47-c5a9-45ab-8954-44d2614ff049",
   "metadata": {},
   "outputs": [],
   "source": [
    "df = df[(df['provider'] == 'GitHub') & (df['spec'].str.startswith('philipsd6'))].reset_index(drop=True)"
   ]
  },
  {
   "cell_type": "markdown",
   "id": "37a16e25-a650-47b8-a5d6-87ff2af42a0f",
   "metadata": {},
   "source": [
    "Does it look right?"
   ]
  },
  {
   "cell_type": "code",
   "execution_count": 5,
   "id": "6e172b6c-f474-4487-8b6c-3272c454409f",
   "metadata": {},
   "outputs": [
    {
     "data": {
      "text/html": [
       "<div>\n",
       "<style scoped>\n",
       "    .dataframe tbody tr th:only-of-type {\n",
       "        vertical-align: middle;\n",
       "    }\n",
       "\n",
       "    .dataframe tbody tr th {\n",
       "        vertical-align: top;\n",
       "    }\n",
       "\n",
       "    .dataframe thead th {\n",
       "        text-align: right;\n",
       "    }\n",
       "</style>\n",
       "<table border=\"1\" class=\"dataframe\">\n",
       "  <thead>\n",
       "    <tr style=\"text-align: right;\">\n",
       "      <th></th>\n",
       "      <th>timestamp</th>\n",
       "      <th>schema</th>\n",
       "      <th>version</th>\n",
       "      <th>provider</th>\n",
       "      <th>spec</th>\n",
       "      <th>ref</th>\n",
       "      <th>status</th>\n",
       "      <th>build_token</th>\n",
       "      <th>origin</th>\n",
       "    </tr>\n",
       "  </thead>\n",
       "  <tbody>\n",
       "    <tr>\n",
       "      <th>35</th>\n",
       "      <td>2021-08-10 13:52:00+00:00</td>\n",
       "      <td>binderhub.jupyter.org/launch</td>\n",
       "      <td>5</td>\n",
       "      <td>GitHub</td>\n",
       "      <td>philipsd6/my-binder/61ade6ebbf27ba0c35047e2623...</td>\n",
       "      <td>61ade6ebbf27ba0c35047e26239d837bc077e080</td>\n",
       "      <td>success</td>\n",
       "      <td>True</td>\n",
       "      <td>gke.mybinder.org</td>\n",
       "    </tr>\n",
       "    <tr>\n",
       "      <th>0</th>\n",
       "      <td>2021-08-18 08:24:00+00:00</td>\n",
       "      <td>binderhub.jupyter.org/launch</td>\n",
       "      <td>5</td>\n",
       "      <td>GitHub</td>\n",
       "      <td>philipsd6/evaluation-binder/main</td>\n",
       "      <td>38fcb7fd53fbd3f70537c08dd47a004150f6a1d2</td>\n",
       "      <td>success</td>\n",
       "      <td>True</td>\n",
       "      <td>gke.mybinder.org</td>\n",
       "    </tr>\n",
       "    <tr>\n",
       "      <th>36</th>\n",
       "      <td>2021-08-10 13:55:00+00:00</td>\n",
       "      <td>binderhub.jupyter.org/launch</td>\n",
       "      <td>5</td>\n",
       "      <td>GitHub</td>\n",
       "      <td>philipsd6/my-binder/HEAD</td>\n",
       "      <td>61ade6ebbf27ba0c35047e26239d837bc077e080</td>\n",
       "      <td>success</td>\n",
       "      <td>True</td>\n",
       "      <td>gke.mybinder.org</td>\n",
       "    </tr>\n",
       "  </tbody>\n",
       "</table>\n",
       "</div>"
      ],
      "text/plain": [
       "                   timestamp                        schema  version provider  \\\n",
       "35 2021-08-10 13:52:00+00:00  binderhub.jupyter.org/launch        5   GitHub   \n",
       "0  2021-08-18 08:24:00+00:00  binderhub.jupyter.org/launch        5   GitHub   \n",
       "36 2021-08-10 13:55:00+00:00  binderhub.jupyter.org/launch        5   GitHub   \n",
       "\n",
       "                                                 spec  \\\n",
       "35  philipsd6/my-binder/61ade6ebbf27ba0c35047e2623...   \n",
       "0                    philipsd6/evaluation-binder/main   \n",
       "36                           philipsd6/my-binder/HEAD   \n",
       "\n",
       "                                         ref   status  build_token  \\\n",
       "35  61ade6ebbf27ba0c35047e26239d837bc077e080  success         True   \n",
       "0   38fcb7fd53fbd3f70537c08dd47a004150f6a1d2  success         True   \n",
       "36  61ade6ebbf27ba0c35047e26239d837bc077e080  success         True   \n",
       "\n",
       "              origin  \n",
       "35  gke.mybinder.org  \n",
       "0   gke.mybinder.org  \n",
       "36  gke.mybinder.org  "
      ]
     },
     "execution_count": 5,
     "metadata": {},
     "output_type": "execute_result"
    }
   ],
   "source": [
    "df.sample(3)"
   ]
  },
  {
   "cell_type": "markdown",
   "id": "9af3431e-441a-4e54-8570-229c369af904",
   "metadata": {},
   "source": [
    "Split the spec out into the repo/ref/commit. Often the ref is the same as the commit."
   ]
  },
  {
   "cell_type": "code",
   "execution_count": 6,
   "id": "a30cd2af-7bc9-4d03-b690-40489bc7dbd8",
   "metadata": {},
   "outputs": [],
   "source": [
    "df['commit'] = df['ref']\n",
    "df[['repo','ref']] = df['spec'].str.rsplit(\"/\", 1, expand=True)"
   ]
  },
  {
   "cell_type": "markdown",
   "id": "4673c14d-cb2a-40a9-b5d4-288e6c120f2d",
   "metadata": {},
   "source": [
    "Drop unneeded columns and reindex in a nicer order."
   ]
  },
  {
   "cell_type": "code",
   "execution_count": 7,
   "id": "d4e418f8-856b-44dc-a2eb-77d7494d92f7",
   "metadata": {
    "tags": []
   },
   "outputs": [],
   "source": [
    "df = df.drop(columns=['schema', 'version', 'provider', 'spec', 'status']).reindex(columns=['timestamp', 'build_token', 'origin', 'repo', 'ref', 'commit'])"
   ]
  },
  {
   "cell_type": "markdown",
   "id": "d882aa5b-d491-44b6-9446-3dc3d61ce79e",
   "metadata": {},
   "source": [
    "Does it look better?"
   ]
  },
  {
   "cell_type": "code",
   "execution_count": 8,
   "id": "86054b26-ec3f-487d-a83e-15f03d2ba108",
   "metadata": {},
   "outputs": [
    {
     "data": {
      "text/html": [
       "<div>\n",
       "<style scoped>\n",
       "    .dataframe tbody tr th:only-of-type {\n",
       "        vertical-align: middle;\n",
       "    }\n",
       "\n",
       "    .dataframe tbody tr th {\n",
       "        vertical-align: top;\n",
       "    }\n",
       "\n",
       "    .dataframe thead th {\n",
       "        text-align: right;\n",
       "    }\n",
       "</style>\n",
       "<table border=\"1\" class=\"dataframe\">\n",
       "  <thead>\n",
       "    <tr style=\"text-align: right;\">\n",
       "      <th></th>\n",
       "      <th>timestamp</th>\n",
       "      <th>build_token</th>\n",
       "      <th>origin</th>\n",
       "      <th>repo</th>\n",
       "      <th>ref</th>\n",
       "      <th>commit</th>\n",
       "    </tr>\n",
       "  </thead>\n",
       "  <tbody>\n",
       "    <tr>\n",
       "      <th>16</th>\n",
       "      <td>2021-08-15 21:11:00+00:00</td>\n",
       "      <td>True</td>\n",
       "      <td>gke.mybinder.org</td>\n",
       "      <td>philipsd6/evaluation-binder</td>\n",
       "      <td>main</td>\n",
       "      <td>35cff8492cbda1c1662c4d456d0af99c917a9567</td>\n",
       "    </tr>\n",
       "    <tr>\n",
       "      <th>43</th>\n",
       "      <td>2021-08-10 19:11:00+00:00</td>\n",
       "      <td>True</td>\n",
       "      <td>gke.mybinder.org</td>\n",
       "      <td>philipsd6/my-binder</td>\n",
       "      <td>main</td>\n",
       "      <td>86b550ab0c99f5fab307522c4ac213f77ce9c6f0</td>\n",
       "    </tr>\n",
       "    <tr>\n",
       "      <th>27</th>\n",
       "      <td>2021-08-11 07:32:00+00:00</td>\n",
       "      <td>True</td>\n",
       "      <td>gke.mybinder.org</td>\n",
       "      <td>philipsd6/my-binder</td>\n",
       "      <td>main</td>\n",
       "      <td>397d115aa3546cf4d67bb19cb2782306621107e1</td>\n",
       "    </tr>\n",
       "  </tbody>\n",
       "</table>\n",
       "</div>"
      ],
      "text/plain": [
       "                   timestamp  build_token            origin  \\\n",
       "16 2021-08-15 21:11:00+00:00         True  gke.mybinder.org   \n",
       "43 2021-08-10 19:11:00+00:00         True  gke.mybinder.org   \n",
       "27 2021-08-11 07:32:00+00:00         True  gke.mybinder.org   \n",
       "\n",
       "                           repo   ref  \\\n",
       "16  philipsd6/evaluation-binder  main   \n",
       "43          philipsd6/my-binder  main   \n",
       "27          philipsd6/my-binder  main   \n",
       "\n",
       "                                      commit  \n",
       "16  35cff8492cbda1c1662c4d456d0af99c917a9567  \n",
       "43  86b550ab0c99f5fab307522c4ac213f77ce9c6f0  \n",
       "27  397d115aa3546cf4d67bb19cb2782306621107e1  "
      ]
     },
     "execution_count": 8,
     "metadata": {},
     "output_type": "execute_result"
    }
   ],
   "source": [
    "df.sample(3)"
   ]
  },
  {
   "cell_type": "markdown",
   "id": "f74b87a7-7649-43ea-bbd6-c9810cb065db",
   "metadata": {},
   "source": [
    "## Analyze the data\n",
    "### Total Launches"
   ]
  },
  {
   "cell_type": "code",
   "execution_count": 9,
   "id": "ee1e857b-cc1f-4948-8b94-52c1d0557846",
   "metadata": {},
   "outputs": [
    {
     "data": {
      "text/plain": [
       "46"
      ]
     },
     "execution_count": 9,
     "metadata": {},
     "output_type": "execute_result"
    }
   ],
   "source": [
    "df.shape[0]"
   ]
  },
  {
   "cell_type": "markdown",
   "id": "33061cd5-60d4-47a7-bed9-e3f351403a3b",
   "metadata": {},
   "source": [
    "### Launches per day"
   ]
  },
  {
   "cell_type": "code",
   "execution_count": 10,
   "id": "afee32cd-8f9f-4cfd-a468-5cdeb11a3dbc",
   "metadata": {},
   "outputs": [],
   "source": [
    "daily = df.set_index(\"timestamp\").resample('D').count()"
   ]
  },
  {
   "cell_type": "code",
   "execution_count": 11,
   "id": "b76b150f-325c-463f-a123-5b620545b039",
   "metadata": {},
   "outputs": [
    {
     "data": {
      "text/plain": [
       "<AxesSubplot:xlabel='timestamp'>"
      ]
     },
     "execution_count": 11,
     "metadata": {},
     "output_type": "execute_result"
    },
    {
     "data": {
      "image/png": "[encoded data removed]",
      "text/plain": [
       "<Figure size 432x288 with 1 Axes>"
      ]
     },
     "metadata": {
      "needs_background": "light"
     },
     "output_type": "display_data"
    }
   ],
   "source": [
    "daily['repo'].plot()"
   ]
  }
 ],
 "metadata": {
  "kernelspec": {
   "display_name": "Python 3",
   "language": "python",
   "name": "python3"
  },
  "language_info": {
   "codemirror_mode": {
    "name": "ipython",
    "version": 3
   },
   "file_extension": ".py",
   "mimetype": "text/x-python",
   "name": "python",
   "nbconvert_exporter": "python",
   "pygments_lexer": "ipython3",
   "version": "3.8.10"
  },
  "widgets": {
   "application/vnd.jupyter.widget-state+json": {
    "state": {},
    "version_major": 2,
    "version_minor": 0
   }
  }
 },
 "nbformat": 4,
 "nbformat_minor": 5
}
